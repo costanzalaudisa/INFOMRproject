{
 "cells": [
  {
   "cell_type": "code",
   "execution_count": 38,
   "metadata": {},
   "outputs": [],
   "source": [
    "import pandas as pd\n",
    "import matplotlib.pyplot as plt\n",
    "from pathlib import Path\n",
    "import numpy as np\n",
    "import math\n",
    "from sklearn.preprocessing import MinMaxScaler, StandardScaler\n",
    "from scipy.spatial import distance\n",
    "\n",
    "pd.set_option('display.float_format', lambda x: '%.5f' % x)\n",
    "\n",
    "PROCESSED_DB = Path(\"./psb_proc.csv\")\n",
    "\n",
    "df = pd.read_csv(PROCESSED_DB)\n",
    "\n",
    "PROCESSED_MODEL_DIR = Path(\"./processed-models\")\n",
    "\n",
    "# List string to numpy array\n",
    "for col in [\"Bounding box\", \"Barycenter\", \"A3\", \"D1\", \"D2\", \"D3\", \"D4\"]:\n",
    "    df[col] = df[col].str.replace(\"nan\", \"0\")\n",
    "    df[col] = df[col].apply(eval).apply(np.array)\n",
    "\n",
    "df.replace(np.inf, np.nan, inplace=True)\n",
    "df.dropna(inplace=True)\n",
    "\n",
    "# Scale each non-histogram feature seperately\n",
    "scaler = StandardScaler()\n",
    "\n",
    "# Standardize single-value features only\n",
    "for col in [\"Surface\", \"Bounding box volume\", \"Convex hull volume\", \"Compactness\", \"Diameter\", \"Eccentricity\"]:\n",
    "    X = df[col].values\n",
    "    X = scaler.fit_transform(X.reshape(-1, 1))\n",
    "    df[col] = X"
   ]
  },
  {
   "cell_type": "code",
   "execution_count": 39,
   "metadata": {},
   "outputs": [],
   "source": [
    "def apply_weights(df, w = [1 / 11 for _ in range(11)]):\n",
    "    # Normalize the weights\n",
    "    w = np.array(w) / sum(w)\n",
    "\n",
    "    # Calculate the feature vector for every entry in the dataset\n",
    "    # df[\"Feature Vector\"] = df.apply(lambda x: np.array([w[0] * x[\"Surface\"], w[1] * x[\"Compactness\"], w[2] * x[\"Bounding box volume\"], w[3] * x[\"Convex hull volume\"], w[4] * x[\"Diameter\"], w[5] * x[\"Eccentricity\"], *(w[6] * x[\"A3\"]), *(w[7] * x[\"D1\"]), *(w[8] * x[\"D2\"]), *(w[9] * x[\"D3\"]), *(w[10] * x[\"D4\"])]), axis=1)\n",
    "    df[\"Feature Vector\"] = df.apply(lambda x: np.hstack(np.array([x[\"Surface\"], x[\"Compactness\"], x[\"Bounding box volume\"], x[\"Convex hull volume\"], x[\"Diameter\"], x[\"Eccentricity\"], x[\"A3\"], x[\"D1\"], x[\"D2\"], x[\"D3\"], x[\"D4\"]]) * w), axis=1)\n",
    "    return df"
   ]
  },
  {
   "cell_type": "code",
   "execution_count": 40,
   "metadata": {},
   "outputs": [],
   "source": [
    "def acc(df):\n",
    "    k = 5\n",
    "    matches = []\n",
    "\n",
    "    for i, row in df.iterrows():\n",
    "        vec = row[\"Feature Vector\"]\n",
    "        label = row[\"Label\"]\n",
    "        model_num = row[\"Model number\"]\n",
    "\n",
    "        df[\"Cosine Distance\"] = df.apply(lambda x: np.linalg.norm(x[\"Feature Vector\"] - vec), axis=1)\n",
    "\n",
    "        top_k = df.nsmallest(k + 1, \"Cosine Distance\")\n",
    "\n",
    "        top_k = top_k[top_k[\"Model number\"] != model_num]\n",
    "\n",
    "        match = max(set(top_k[\"Label\"]), key = list(top_k[\"Label\"]).count) == label\n",
    "\n",
    "        matches.append(match)\n",
    "\n",
    "    return sum(matches)"
   ]
  },
  {
   "cell_type": "code",
   "execution_count": 43,
   "metadata": {},
   "outputs": [
    {
     "name": "stderr",
     "output_type": "stream",
     "text": [
      "/tmp/ipykernel_6387/3593174416.py:7: VisibleDeprecationWarning: Creating an ndarray from ragged nested sequences (which is a list-or-tuple of lists-or-tuples-or ndarrays with different lengths or shapes) is deprecated. If you meant to do this, you must specify 'dtype=object' when creating the ndarray.\n",
      "  df[\"Feature Vector\"] = df.apply(lambda x: np.hstack(np.array([x[\"Surface\"], x[\"Compactness\"], x[\"Bounding box volume\"], x[\"Convex hull volume\"], x[\"Diameter\"], x[\"Eccentricity\"], x[\"A3\"], x[\"D1\"], x[\"D2\"], x[\"D3\"], x[\"D4\"]]) * w), axis=1)\n"
     ]
    },
    {
     "name": "stdout",
     "output_type": "stream",
     "text": [
      "Weights: [0.09090909090909091, 0.09090909090909091, 0.09090909090909091, 0.09090909090909091, 0.09090909090909091, 1.0, 0.09090909090909091, 0.09090909090909091, 0.09090909090909091, 0.09090909090909091, 0.09090909090909091]\n",
      "Accuracy: 898\n",
      "Weights: [0.09090909090909091, 0.09090909090909091, 0.09090909090909091, 0.09090909090909091, 0.09090909090909091, 1.0, 0.9090909090909091, 0.09090909090909091, 0.09090909090909091, 0.09090909090909091, 0.09090909090909091]\n",
      "Accuracy: 875\n",
      "Weights: [0.09090909090909091, 0.09090909090909091, 0.09090909090909091, 0.09090909090909091, 0.09090909090909091, 1.0, 0.9090909090909091, 0.09090909090909091, 0.8181818181818181, 0.09090909090909091, 0.09090909090909091]\n",
      "Accuracy: 883\n",
      "Weights: [0.09090909090909091, 0.7272727272727273, 0.09090909090909091, 0.09090909090909091, 0.09090909090909091, 1.0, 0.9090909090909091, 0.09090909090909091, 0.8181818181818181, 0.09090909090909091, 0.09090909090909091]\n",
      "Accuracy: 885\n",
      "Weights: [0.09090909090909091, 0.7272727272727273, 0.09090909090909091, 0.09090909090909091, 0.09090909090909091, 1.0, 0.9090909090909091, 0.09090909090909091, 0.8181818181818181, 0.09090909090909091, 0.6363636363636364]\n",
      "Accuracy: 899\n",
      "Weights: [0.09090909090909091, 0.7272727272727273, 0.09090909090909091, 0.09090909090909091, 0.09090909090909091, 1.0, 0.9090909090909091, 0.09090909090909091, 0.8181818181818181, 0.5454545454545454, 0.6363636363636364]\n",
      "Accuracy: 905\n",
      "Weights: [0.4545454545454546, 0.7272727272727273, 0.09090909090909091, 0.09090909090909091, 0.09090909090909091, 1.0, 0.9090909090909091, 0.09090909090909091, 0.8181818181818181, 0.5454545454545454, 0.6363636363636364]\n",
      "Accuracy: 898\n",
      "Weights: [0.4545454545454546, 0.7272727272727273, 0.09090909090909091, 0.36363636363636365, 0.09090909090909091, 1.0, 0.9090909090909091, 0.09090909090909091, 0.8181818181818181, 0.5454545454545454, 0.6363636363636364]\n",
      "Accuracy: 920\n",
      "Weights: [0.4545454545454546, 0.7272727272727273, 0.09090909090909091, 0.36363636363636365, 0.09090909090909091, 1.0, 0.9090909090909091, 0.2727272727272727, 0.8181818181818181, 0.5454545454545454, 0.6363636363636364]\n",
      "Accuracy: 934\n",
      "Weights: [0.4545454545454546, 0.7272727272727273, 0.18181818181818177, 0.36363636363636365, 0.09090909090909091, 1.0, 0.9090909090909091, 0.2727272727272727, 0.8181818181818181, 0.5454545454545454, 0.6363636363636364]\n",
      "Accuracy: 949\n",
      "Weights: [0.4545454545454546, 0.7272727272727273, 0.18181818181818177, 0.36363636363636365, 0.09090909090909094, 1.0, 0.9090909090909091, 0.2727272727272727, 0.8181818181818181, 0.5454545454545454, 0.6363636363636364]\n",
      "Accuracy: 949\n"
     ]
    }
   ],
   "source": [
    "w = [1 / 11 for _ in range(11)]\n",
    "\n",
    "best_indices = []\n",
    "\n",
    "for x in range(11):\n",
    "    best_weights = w\n",
    "    best_acc = 0\n",
    "    best_index = -1\n",
    "\n",
    "    for i in range(11):\n",
    "        if i in best_indices:\n",
    "            continue\n",
    "\n",
    "        w_copy = w.copy()\n",
    "        w_copy[i] = 1 - x/11\n",
    "\n",
    "        df = apply_weights(df, w_copy)\n",
    "        accuracy = acc(df)\n",
    "\n",
    "\n",
    "\n",
    "        if accuracy > best_acc:\n",
    "            best_acc = accuracy\n",
    "            best_weights = w_copy\n",
    "            best_index = i\n",
    "\n",
    "    best_indices.append(best_index)\n",
    "    w = best_weights\n",
    "    print(f\"Weights: {best_weights}\")\n",
    "    print(f\"Accuracy: {best_acc}\")\n"
   ]
  },
  {
   "cell_type": "code",
   "execution_count": 44,
   "metadata": {},
   "outputs": [
    {
     "name": "stderr",
     "output_type": "stream",
     "text": [
      "/tmp/ipykernel_6387/3593174416.py:7: VisibleDeprecationWarning: Creating an ndarray from ragged nested sequences (which is a list-or-tuple of lists-or-tuples-or ndarrays with different lengths or shapes) is deprecated. If you meant to do this, you must specify 'dtype=object' when creating the ndarray.\n",
      "  df[\"Feature Vector\"] = df.apply(lambda x: np.hstack(np.array([x[\"Surface\"], x[\"Compactness\"], x[\"Bounding box volume\"], x[\"Convex hull volume\"], x[\"Diameter\"], x[\"Eccentricity\"], x[\"A3\"], x[\"D1\"], x[\"D2\"], x[\"D3\"], x[\"D4\"]]) * w), axis=1)\n"
     ]
    },
    {
     "name": "stdout",
     "output_type": "stream",
     "text": [
      "905\n"
     ]
    }
   ],
   "source": [
    "df = apply_weights(df)\n",
    "accuracy = acc(df)\n",
    "\n",
    "print(accuracy)\n",
    "\n"
   ]
  }
 ],
 "metadata": {
  "interpreter": {
   "hash": "a054dfacaac4c7c14f0d4b240b81f51a53685958321ddcc9146e07156cae54cc"
  },
  "kernelspec": {
   "display_name": "Python 3.9.7 64-bit ('.venv': venv)",
   "name": "python3"
  },
  "language_info": {
   "codemirror_mode": {
    "name": "ipython",
    "version": 3
   },
   "file_extension": ".py",
   "mimetype": "text/x-python",
   "name": "python",
   "nbconvert_exporter": "python",
   "pygments_lexer": "ipython3",
   "version": "3.9.7"
  },
  "orig_nbformat": 4
 },
 "nbformat": 4,
 "nbformat_minor": 2
}
