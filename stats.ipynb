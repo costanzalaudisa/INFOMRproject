{
 "cells": [
  {
   "cell_type": "markdown",
   "metadata": {},
   "source": [
    "# An iPython Notebook for generating stats of the data"
   ]
  },
  {
   "cell_type": "code",
   "execution_count": null,
   "metadata": {},
   "outputs": [],
   "source": [
    "import pandas as pd\n",
    "import matplotlib.pyplot as plt\n",
    "from pathlib import Path\n",
    "import numpy as np\n",
    "import math\n",
    "\n",
    "pd.set_option('display.float_format', lambda x: '%.5f' % x)\n",
    "\n",
    "ORIGINAL_DB = Path(\"./psb_orig.csv\")\n",
    "PROCESSED_DB = Path(\"./psb_proc.csv\")\n",
    "\n",
    "df_orig = pd.read_csv(ORIGINAL_DB)\n",
    "df_proc = pd.read_csv(PROCESSED_DB)\n",
    "\n",
    "# List string to numpy array\n",
    "for col in [\"Bounding box\", \"Barycenter\", \"A3\", \"D1\", \"D2\", \"D3\", \"D4\"]:\n",
    "    df_orig[col] = df_orig[col].str.replace(\"nan\", \"0\")\n",
    "    df_proc[col] = df_proc[col].str.replace(\"nan\", \"0\")\n",
    "\n",
    "    df_orig[col] = df_orig[col].apply(eval).apply(np.array)\n",
    "    df_proc[col] = df_proc[col].apply(eval).apply(np.array)\n",
    "\n",
    "df_orig[\"Max bound\"] = df_orig[\"Bounding box\"].apply(lambda x: max(np.abs(x[0] - x[1])))\n",
    "df_proc[\"Max bound\"] = df_proc[\"Bounding box\"].apply(lambda x: max(np.abs(x[0] - x[1])))\n",
    "\n",
    "df_orig[\"Distance from origin\"] = df_orig[\"Barycenter\"].apply(np.linalg.norm)\n",
    "df_proc[\"Distance from origin\"] = df_proc[\"Barycenter\"].apply(np.linalg.norm)"
   ]
  },
  {
   "cell_type": "code",
   "execution_count": null,
   "metadata": {},
   "outputs": [],
   "source": [
    "print(df_orig.columns)\n",
    "print(df_proc.columns)"
   ]
  },
  {
   "cell_type": "code",
   "execution_count": null,
   "metadata": {},
   "outputs": [],
   "source": [
    "plt.hist(df_orig[\"Max bound\"])\n",
    "# plt.hist(df_proc[\"Max bound\"])\n",
    "plt.show()"
   ]
  },
  {
   "cell_type": "code",
   "execution_count": null,
   "metadata": {},
   "outputs": [],
   "source": [
    "# A3 per class\n",
    "labels = df_proc[\"Label\"].unique()\n",
    "label_count = len(labels)\n",
    "\n",
    "print(label_count)\n",
    "\n",
    "fig, axes = plt.subplots(5, 10)\n",
    "\n",
    "axs = axes.flatten()\n",
    "\n",
    "for i, label in enumerate(labels):\n",
    "    values = df_proc[df_proc[\"Label\"] == label][\"A3\"]\n",
    "    for val in values:\n",
    "        axs[i].plot(np.linspace(0, math.pi, 10)[1:], eval(val))\n",
    "\n",
    "    axs[i].set_title(label)\n",
    "\n",
    "# Looks horrible, how can we fix this\n",
    "plt.show()"
   ]
  }
 ],
 "metadata": {
  "interpreter": {
   "hash": "a054dfacaac4c7c14f0d4b240b81f51a53685958321ddcc9146e07156cae54cc"
  },
  "kernelspec": {
   "display_name": "Python 3.9.7 64-bit ('.venv': venv)",
   "name": "python3"
  },
  "language_info": {
   "codemirror_mode": {
    "name": "ipython",
    "version": 3
   },
   "file_extension": ".py",
   "mimetype": "text/x-python",
   "name": "python",
   "nbconvert_exporter": "python",
   "pygments_lexer": "ipython3",
   "version": "3.9.7"
  },
  "orig_nbformat": 4
 },
 "nbformat": 4,
 "nbformat_minor": 2
}
